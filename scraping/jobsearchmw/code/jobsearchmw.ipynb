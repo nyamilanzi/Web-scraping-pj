{
 "cells": [
  {
   "cell_type": "code",
   "execution_count": 1,
   "metadata": {},
   "outputs": [
    {
     "name": "stderr",
     "output_type": "stream",
     "text": [
      "There was an error managing chromedriver (error sending request for url (https://googlechromelabs.github.io/chrome-for-testing/known-good-versions-with-downloads.json): error trying to connect: dns error: No such host is known. (os error 11001)); using driver found in the cache\n"
     ]
    },
    {
     "name": "stdout",
     "output_type": "stream",
     "text": [
      "No new listings found.\n"
     ]
    },
    {
     "ename": "NameError",
     "evalue": "name 'df' is not defined",
     "output_type": "error",
     "traceback": [
      "\u001b[1;31m---------------------------------------------------------------------------\u001b[0m",
      "\u001b[1;31mNameError\u001b[0m                                 Traceback (most recent call last)",
      "Input \u001b[1;32mIn [1]\u001b[0m, in \u001b[0;36m<cell line: 82>\u001b[1;34m()\u001b[0m\n\u001b[0;32m     79\u001b[0m \u001b[38;5;28;01melse\u001b[39;00m:\n\u001b[0;32m     80\u001b[0m     \u001b[38;5;28mprint\u001b[39m(\u001b[38;5;124m\"\u001b[39m\u001b[38;5;124mNo new listings found.\u001b[39m\u001b[38;5;124m\"\u001b[39m)\n\u001b[1;32m---> 82\u001b[0m \u001b[43mdf\u001b[49m\u001b[38;5;241m.\u001b[39mto_csv(\u001b[38;5;124m'\u001b[39m\u001b[38;5;124mjobsearch_listings.csv\u001b[39m\u001b[38;5;124m'\u001b[39m, index\u001b[38;5;241m=\u001b[39m\u001b[38;5;28;01mFalse\u001b[39;00m)\n",
      "\u001b[1;31mNameError\u001b[0m: name 'df' is not defined"
     ]
    }
   ],
   "source": [
    "from selenium import webdriver\n",
    "from selenium.webdriver.common.by import By\n",
    "from selenium.webdriver.support.ui import WebDriverWait\n",
    "from selenium.webdriver.support import expected_conditions as EC\n",
    "from bs4 import BeautifulSoup\n",
    "import pandas as pd\n",
    "import time\n",
    "\n",
    "driver = webdriver.Chrome() \n",
    "driver.get(\"https://jobsearchmalawi.com/\")\n",
    "\n",
    "def scrape_listings(page_source):\n",
    "    soup = BeautifulSoup(page_source, 'html.parser')\n",
    "    job_listings = soup.find_all('li', class_='job_listing')\n",
    "    listings_data = []\n",
    "    for listing in job_listings:\n",
    "        job_position_elem = listing.find('h3')\n",
    "        job_position = job_position_elem.text.strip() if job_position_elem else None\n",
    "        if job_position == \"How to Search For a Job Advert\":  \n",
    "            continue  \n",
    "\n",
    "        company_elem = listing.find('div', class_='company')\n",
    "        company = company_elem.strong.text.strip() if company_elem and company_elem.strong else None\n",
    "        if company is None:\n",
    "            \n",
    "            continue\n",
    "\n",
    "        location_elem = listing.find('div', class_='location')\n",
    "        location = location_elem.text.strip() if location_elem else None\n",
    "        if location is None:\n",
    "            \n",
    "            continue\n",
    "\n",
    "        job_type_elem = listing.find('li', class_='job-type')\n",
    "        job_type = job_type_elem.text.strip() if job_type_elem else None\n",
    "        if job_type is None:\n",
    "            \n",
    "            continue\n",
    "\n",
    "        posting_date_elem = listing.find('li', class_='date')\n",
    "        posting_date = posting_date_elem.time['datetime'] if posting_date_elem else None\n",
    "        if posting_date is None:\n",
    "            \n",
    "            continue\n",
    "\n",
    "        listing_data = {\n",
    "            'Position': job_position,\n",
    "            'Company': company,\n",
    "            'Location': location,\n",
    "            'Job Type': job_type,\n",
    "            'Posting Date': posting_date\n",
    "        }\n",
    "        listings_data.append(listing_data)\n",
    "    return listings_data\n",
    "\n",
    "new_listings = []\n",
    "\n",
    "while True:\n",
    "    try:\n",
    "        load_more_button = WebDriverWait(driver, 10).until(\n",
    "            EC.element_to_be_clickable((By.CLASS_NAME, \"load_more_jobs\"))\n",
    "        )\n",
    "        load_more_button.click()\n",
    "        time.sleep(2)  \n",
    "        page_source = driver.page_source\n",
    "        scraped_listings = scrape_listings(page_source)\n",
    "        if not scraped_listings:\n",
    "            break\n",
    "        new_listings.extend(scraped_listings)\n",
    "    except Exception as e:\n",
    "        \n",
    "        break  \n",
    "\n",
    "driver.quit()\n",
    "\n",
    "if new_listings:\n",
    "    df = pd.DataFrame(new_listings)\n",
    "   \n",
    "else:\n",
    "    print(\"No new listings found.\")\n",
    "\n",
    "df.to_csv('jobsearch_listings.csv', index=False)\n"
   ]
  }
 ],
 "metadata": {
  "kernelspec": {
   "display_name": "Python 3",
   "language": "python",
   "name": "python3"
  },
  "language_info": {
   "codemirror_mode": {
    "name": "ipython",
    "version": 3
   },
   "file_extension": ".py",
   "mimetype": "text/x-python",
   "name": "python",
   "nbconvert_exporter": "python",
   "pygments_lexer": "ipython3",
   "version": "3.8.0"
  }
 },
 "nbformat": 4,
 "nbformat_minor": 2
}
