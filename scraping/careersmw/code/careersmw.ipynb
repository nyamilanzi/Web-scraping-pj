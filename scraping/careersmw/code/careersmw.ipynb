{
 "cells": [
  {
   "cell_type": "code",
   "execution_count": null,
   "metadata": {},
   "outputs": [],
   "source": [
    "from selenium import webdriver\n",
    "from selenium.webdriver.common.by import By\n",
    "from selenium.webdriver.support.ui import WebDriverWait\n",
    "from selenium.webdriver.support import expected_conditions as EC\n",
    "from bs4 import BeautifulSoup\n",
    "import pandas as pd\n",
    "import time"
   ]
  },
  {
   "cell_type": "code",
   "execution_count": null,
   "metadata": {},
   "outputs": [],
   "source": [
    "driver = webdriver.Chrome() \n",
    "\n",
    "driver.get(\"https://careersmw.com/\")"
   ]
  },
  {
   "cell_type": "code",
   "execution_count": null,
   "metadata": {},
   "outputs": [],
   "source": [
    "def scrape_listings(page_source):\n",
    "    soup = BeautifulSoup(page_source, 'html.parser')\n",
    "    job_listings = soup.find_all('li', class_='job_listing')\n",
    "    listings_data = []\n",
    "    for listing in job_listings:\n",
    "        job_position_elem = listing.find('h3')\n",
    "        job_position = job_position_elem.text.strip() if job_position_elem else None\n",
    "\n",
    "        company_elem = listing.find('div', class_='company')\n",
    "        company = company_elem.strong.text.strip() if company_elem else None\n",
    "\n",
    "        location_elem = listing.find('div', class_='location')\n",
    "        location = location_elem.text.strip() if location_elem else None\n",
    "\n",
    "        job_type_elem = listing.find('li', class_='job-type')\n",
    "        job_type = job_type_elem.text.strip() if job_type_elem else None\n",
    "\n",
    "        posting_date_elem = listing.find('li', class_='date')\n",
    "        posting_date = posting_date_elem.time['datetime'] if posting_date_elem else None\n",
    "\n",
    "        if job_position and company and location and job_type and posting_date:\n",
    "            listing_data = {\n",
    "                'Position': job_position,\n",
    "                'Company': company,\n",
    "                'Location': location,\n",
    "                'Job Type': job_type,\n",
    "                'Posting Date': posting_date\n",
    "            }\n",
    "            listings_data.append(listing_data)\n",
    "    return listings_data\n",
    "\n",
    "\n",
    "while True:\n",
    "    try:\n",
    "        load_more_button = WebDriverWait(driver, 10).until(\n",
    "            EC.element_to_be_clickable((By.CLASS_NAME, \"load_more_jobs\"))\n",
    "        )\n",
    "        load_more_button.click()\n",
    "        time.sleep(2)  \n",
    "        page_source = driver.page_source\n",
    "        new_listings = scrape_listings(page_source)\n",
    "        if not new_listings:\n",
    "            break\n",
    "    except:\n",
    "        break  \n",
    "\n",
    "\n",
    "driver.quit()"
   ]
  },
  {
   "cell_type": "code",
   "execution_count": null,
   "metadata": {},
   "outputs": [],
   "source": [
    "df = pd.DataFrame(new_listings)\n",
    "\n",
    "print(df)\n",
    "\n",
    "df.to_csv('job_listings.csv', index=False)"
   ]
  }
 ],
 "metadata": {
  "kernelspec": {
   "display_name": "Python 3",
   "language": "python",
   "name": "python3"
  },
  "language_info": {
   "name": "python",
   "version": "3.8.0"
  }
 },
 "nbformat": 4,
 "nbformat_minor": 2
}
